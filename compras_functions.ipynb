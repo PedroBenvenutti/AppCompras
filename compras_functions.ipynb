{
 "cells": [
  {
   "cell_type": "code",
   "execution_count": 2,
   "id": "c66826f6",
   "metadata": {},
   "outputs": [],
   "source": []
  },
  {
   "cell_type": "code",
   "execution_count": 4,
   "id": "96cdd51d",
   "metadata": {},
   "outputs": [],
   "source": [
    "import json\n",
    "import time\n",
    "\n",
    "compras = {}\n",
    "\n",
    "def adicionar_item(compras, item, quantidade):\n",
    "    compras[item] = quantidade\n",
    "    \n",
    "\n",
    "def remover_item(compras, item, quantidade):\n",
    "    if item in compras:\n",
    "        del compras[item]\n",
    "    \n",
    "\n",
    "def vizualisar_compras(compras, item, quantidade):\n",
    "    for item, quantidade in compras.items():\n",
    "        print(f\"{item}: {quantidade}\")\n",
    "    print()\n",
    "    print('Pressione enter para continuar')\n",
    "    input()\n",
    "    \n",
    "def salvar_compras(compras, nome_arquivo):\n",
    "    with open(nome_arquivo,\"w\") as arquivo:\n",
    "        json.dump(compras, arquivo)\n",
    "    \n",
    "\n",
    "def carregar_compras(nome_arquivo):\n",
    "    with open(nome_arquivo,\"r\") as arquivo:\n",
    "        return json.load(arquivo)\n",
    "    \n",
    "\n",
    "def gerenciar_compras(compras, nome_arquivo=None):\n",
    "    while True:\n",
    "        print(\"1 Adicionar item \")\n",
    "        print(\"2 Remover item \")\n",
    "        print(\"3 Visualizar lista \")\n",
    "        print(\"4 Salvar e sair \")\n",
    "        print(\"5 Sair sem salvar \")\n",
    "        escolha = input(\"Escolha uma opção: \")\n",
    "        \n",
    "        if escolha == \"1\":\n",
    "            item = input(\"Digite o nome do item: \")\n",
    "            quantidade = int(input(\"Digite a quantidade: \"))\n",
    "            adicionar_item(compras, item, quantidade)\n",
    "        elif escolha == \"2\":\n",
    "            item = input(\"Digite o nome do item: \")\n",
    "            remover_item(compras, item)\n",
    "        elif escolha == \"3\":\n",
    "            vizualisar_compras(compras)\n",
    "        elif escolha == \"4\":\n",
    "            if nome_arquivo is None:\n",
    "                nome_arquivo = input(\"Digite o nome do arquivo para salvar: \")\n",
    "            if not nome_arquivo.endswith(\".json\"):\n",
    "                nome_arquivo += \".json\"\n",
    "            salvar_compras(compras, nome_arquivo)\n",
    "            break\n",
    "        elif escolha == \"5\":\n",
    "            break\n",
    "        else:\n",
    "            print(\"Opção inválida!\")\n",
    "            time.sleep(1)\n",
    "        \n",
    "def main():\n",
    "    while True:\n",
    "        print(\"1 Criar uma nova lista de compras\")\n",
    "        print(\"2 Carregar uma lista existente\")\n",
    "        print(\"3 Sair\")\n",
    "        escolha = input(\"Escolha uma opção: \")\n",
    "        \n",
    "        if escolha == \"1\":\n",
    "            compras = {}\n",
    "            gerenciar_compras(compras)\n",
    "            \n",
    "        elif escolha == \"2\":\n",
    "            pass\n",
    "        elif escolha == \"3\":\n",
    "            break\n",
    "        else:\n",
    "            print(\"Opção inválida\")\n",
    "            time.sleep(1)\n",
    "\n",
    "main()"
   ]
  },
  {
   "cell_type": "code",
   "execution_count": null,
   "id": "2c904f95",
   "metadata": {},
   "outputs": [
    {
     "name": "stdout",
     "output_type": "stream",
     "text": [
      "1 Criar uma nova lista de compras\n",
      "2 Carregar uma lista existente\n",
      "3 Sair\n",
      "Escolha uma opção0\n",
      "Opção inválida\n",
      "1 Criar uma nova lista de compras\n",
      "2 Carregar uma lista existente\n",
      "3 Sair\n"
     ]
    }
   ],
   "source": [
    "main()"
   ]
  }
 ],
 "metadata": {
  "kernelspec": {
   "display_name": "Python 3 (ipykernel)",
   "language": "python",
   "name": "python3"
  },
  "language_info": {
   "codemirror_mode": {
    "name": "ipython",
    "version": 3
   },
   "file_extension": ".py",
   "mimetype": "text/x-python",
   "name": "python",
   "nbconvert_exporter": "python",
   "pygments_lexer": "ipython3",
   "version": "3.9.12"
  }
 },
 "nbformat": 4,
 "nbformat_minor": 5
}
